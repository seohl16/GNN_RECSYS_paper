{
  "nbformat": 4,
  "nbformat_minor": 0,
  "metadata": {
    "colab": {
      "provenance": []
    },
    "kernelspec": {
      "name": "python3",
      "display_name": "Python 3"
    },
    "language_info": {
      "name": "python"
    },
    "accelerator": "GPU",
    "gpuClass": "standard"
  },
  "cells": [
    {
      "cell_type": "markdown",
      "source": [
        "# GCN \n",
        "\n",
        "gcn model code referenced by \n",
        "https://github.com/dmlc/dgl/tree/master/examples/tensorflow/gcn\n",
        "\n",
        "Original tensorflow gcn code! \n",
        "실제 코드를 python notebook으로 만들었다. |\n"
      ],
      "metadata": {
        "id": "8GIAzMNSgQ62"
      }
    },
    {
      "cell_type": "markdown",
      "source": [
        "### Setting"
      ],
      "metadata": {
        "id": "gBUumtyLqbrD"
      }
    },
    {
      "cell_type": "code",
      "source": [
        "# !pip install dgl # cpu \n",
        "!pip install dgl-cu110 # gpu "
      ],
      "metadata": {
        "colab": {
          "base_uri": "https://localhost:8080/"
        },
        "id": "8Do2LYmBhGWF",
        "outputId": "5d1b1f09-810e-4689-8e54-fcf5c98a1200"
      },
      "execution_count": 1,
      "outputs": [
        {
          "output_type": "stream",
          "name": "stdout",
          "text": [
            "Looking in indexes: https://pypi.org/simple, https://us-python.pkg.dev/colab-wheels/public/simple/\n",
            "Collecting dgl-cu110\n",
            "  Downloading dgl_cu110-0.6.1-cp38-cp38-manylinux1_x86_64.whl (39.9 MB)\n",
            "\u001b[K     |████████████████████████████████| 39.9 MB 1.2 MB/s \n",
            "\u001b[?25hRequirement already satisfied: numpy>=1.14.0 in /usr/local/lib/python3.8/dist-packages (from dgl-cu110) (1.21.6)\n",
            "Requirement already satisfied: networkx>=2.1 in /usr/local/lib/python3.8/dist-packages (from dgl-cu110) (2.8.8)\n",
            "Requirement already satisfied: scipy>=1.1.0 in /usr/local/lib/python3.8/dist-packages (from dgl-cu110) (1.7.3)\n",
            "Requirement already satisfied: requests>=2.19.0 in /usr/local/lib/python3.8/dist-packages (from dgl-cu110) (2.23.0)\n",
            "Requirement already satisfied: certifi>=2017.4.17 in /usr/local/lib/python3.8/dist-packages (from requests>=2.19.0->dgl-cu110) (2022.12.7)\n",
            "Requirement already satisfied: urllib3!=1.25.0,!=1.25.1,<1.26,>=1.21.1 in /usr/local/lib/python3.8/dist-packages (from requests>=2.19.0->dgl-cu110) (1.24.3)\n",
            "Requirement already satisfied: idna<3,>=2.5 in /usr/local/lib/python3.8/dist-packages (from requests>=2.19.0->dgl-cu110) (2.10)\n",
            "Requirement already satisfied: chardet<4,>=3.0.2 in /usr/local/lib/python3.8/dist-packages (from requests>=2.19.0->dgl-cu110) (3.0.4)\n",
            "Installing collected packages: dgl-cu110\n",
            "Successfully installed dgl-cu110-0.6.1\n"
          ]
        }
      ]
    },
    {
      "cell_type": "code",
      "execution_count": 2,
      "metadata": {
        "colab": {
          "base_uri": "https://localhost:8080/"
        },
        "id": "j5Lz3tp2gNw9",
        "outputId": "840b1461-213a-4044-b688-98daf64dff65"
      },
      "outputs": [
        {
          "output_type": "stream",
          "name": "stderr",
          "text": [
            "Using backend: tensorflow\n"
          ]
        },
        {
          "output_type": "stream",
          "name": "stdout",
          "text": [
            "tensorflow\n"
          ]
        }
      ],
      "source": [
        "import os\n",
        "os.environ['DGLBACKEND'] = 'tensorflow'\n",
        "\n",
        "import dgl\n",
        "print(dgl.backend.backend_name)"
      ]
    },
    {
      "cell_type": "code",
      "source": [
        "import time \n",
        "import numpy as np \n",
        "import pandas as pd \n",
        "import networkx as nx \n",
        "import requests \n",
        "from matplotlib import pyplot as plt \n",
        "import tensorflow as tf \n",
        "from tensorflow.keras import layers \n",
        "from dgl import DGLGraph \n",
        "from dgl.data import CiteseerGraphDataset, register_data_args, load_data"
      ],
      "metadata": {
        "id": "4LItkYpDUCCN"
      },
      "execution_count": 3,
      "outputs": []
    },
    {
      "cell_type": "code",
      "source": [
        "data = CiteseerGraphDataset() "
      ],
      "metadata": {
        "colab": {
          "base_uri": "https://localhost:8080/"
        },
        "id": "AwtOfl8sUZbh",
        "outputId": "e49d6e0a-f789-4472-d28b-5bd67d4dc148"
      },
      "execution_count": 4,
      "outputs": [
        {
          "output_type": "stream",
          "name": "stdout",
          "text": [
            "Downloading /root/.dgl/citeseer.zip from https://data.dgl.ai/dataset/citeseer.zip...\n",
            "Extracting file to /root/.dgl/citeseer\n"
          ]
        },
        {
          "output_type": "stream",
          "name": "stderr",
          "text": [
            "/usr/local/lib/python3.8/dist-packages/dgl/data/citation_graph.py:273: RuntimeWarning: divide by zero encountered in power\n",
            "  r_inv = np.power(rowsum, -1).flatten()\n"
          ]
        },
        {
          "output_type": "stream",
          "name": "stdout",
          "text": [
            "Finished data loading and preprocessing.\n",
            "  NumNodes: 3327\n",
            "  NumEdges: 9228\n",
            "  NumFeats: 3703\n",
            "  NumClasses: 6\n",
            "  NumTrainingSamples: 120\n",
            "  NumValidationSamples: 500\n",
            "  NumTestSamples: 1000\n",
            "Done saving data into cached files.\n"
          ]
        }
      ]
    },
    {
      "cell_type": "code",
      "source": [
        "g = data[0]\n",
        "print(g)"
      ],
      "metadata": {
        "colab": {
          "base_uri": "https://localhost:8080/"
        },
        "id": "agrrOzlpUzgs",
        "outputId": "a0bd2d74-e4eb-408a-ceb2-0b25928e6d73"
      },
      "execution_count": 5,
      "outputs": [
        {
          "output_type": "stream",
          "name": "stdout",
          "text": [
            "Graph(num_nodes=3327, num_edges=9228,\n",
            "      ndata_schemes={'train_mask': Scheme(shape=(), dtype=tf.bool), 'val_mask': Scheme(shape=(), dtype=tf.bool), 'test_mask': Scheme(shape=(), dtype=tf.bool), 'label': Scheme(shape=(), dtype=tf.int64), 'feat': Scheme(shape=(3703,), dtype=tf.float32)}\n",
            "      edata_schemes={})\n"
          ]
        }
      ]
    },
    {
      "cell_type": "code",
      "source": [
        "device = \"/gpu:0\""
      ],
      "metadata": {
        "id": "ctsMD6dAjFNZ"
      },
      "execution_count": 6,
      "outputs": []
    },
    {
      "cell_type": "code",
      "source": [
        "with tf.device(device): \n",
        "  g = g.to(device)\n",
        "  features = g.ndata[\"feat\"]\n",
        "  labels = g.ndata[\"label\"]\n",
        "  train_mask = g.ndata[\"train_mask\"]\n",
        "  val_mask = g.ndata[\"val_mask\"]\n",
        "  test_mask = g.ndata[\"test_mask\"]\n",
        "  in_feats = features.shape[1] \n",
        "  n_classes = data.num_classes\n",
        "  n_edges = g.number_of_edges() \n",
        "  print(\"---data info---\")\n",
        "  print(\"Edges %d Classes %d \" % (\n",
        "      n_edges, n_classes, \n",
        "  ))\n",
        "  print(\"Train samples %d \" % (\n",
        "      train_mask.numpy().sum(), \n",
        "  ))\n",
        "  print(\"valsamples %d test samples %d\" % (\n",
        "      val_mask.numpy().sum(), test_mask.numpy().sum()\n",
        "  ))"
      ],
      "metadata": {
        "colab": {
          "base_uri": "https://localhost:8080/"
        },
        "id": "9icvrTBIjL80",
        "outputId": "2d5cb2de-2e5a-4dbd-db1b-ef466ad92649"
      },
      "execution_count": 7,
      "outputs": [
        {
          "output_type": "stream",
          "name": "stdout",
          "text": [
            "---data info---\n",
            "Edges 9228 Classes 6 \n",
            "Train samples 120 \n",
            "valsamples 500 test samples 1000\n"
          ]
        }
      ]
    },
    {
      "cell_type": "code",
      "source": [
        "n_edges = g.number_of_edges() \n",
        "degs = tf.cast(tf.identity(g.in_degrees()), dtype=tf.float32)\n",
        "norm = tf.math.pow(degs, -0.5) \n",
        "norm = tf.where(tf.math.is_inf(norm), tf.zeros_like(norm), norm)"
      ],
      "metadata": {
        "id": "7wvpKi0ope04"
      },
      "execution_count": 11,
      "outputs": []
    },
    {
      "cell_type": "code",
      "source": [
        "print(n_edges)\n",
        "print(g.in_degrees())\n",
        "print(degs)\n",
        "print(norm.shape)\n",
        "norm"
      ],
      "metadata": {
        "id": "SAvvVp7EpxBa",
        "outputId": "f5436cd8-c5c8-41df-b320-dc850eb077bb",
        "colab": {
          "base_uri": "https://localhost:8080/"
        }
      },
      "execution_count": 15,
      "outputs": [
        {
          "output_type": "stream",
          "name": "stdout",
          "text": [
            "9228\n",
            "tf.Tensor([1 5 1 ... 3 1 1], shape=(3327,), dtype=int64)\n",
            "tf.Tensor([1. 5. 1. ... 3. 1. 1.], shape=(3327,), dtype=float32)\n",
            "(3327,)\n"
          ]
        },
        {
          "output_type": "execute_result",
          "data": {
            "text/plain": [
              "<tf.Tensor: shape=(3327,), dtype=float32, numpy=\n",
              "array([1.        , 0.4472136 , 1.        , ..., 0.57735026, 1.        ,\n",
              "       1.        ], dtype=float32)>"
            ]
          },
          "metadata": {},
          "execution_count": 15
        }
      ]
    },
    {
      "cell_type": "code",
      "source": [
        "g.ndata[\"norm\"] = tf.expand_dims(norm, -1) \n",
        "g.ndata[\"norm\"]"
      ],
      "metadata": {
        "id": "orebl-oLqSel",
        "outputId": "290477e8-5f5f-41a1-eeb3-b342ad87b553",
        "colab": {
          "base_uri": "https://localhost:8080/"
        }
      },
      "execution_count": 16,
      "outputs": [
        {
          "output_type": "execute_result",
          "data": {
            "text/plain": [
              "<tf.Tensor: shape=(3327, 1), dtype=float32, numpy=\n",
              "array([[1.        ],\n",
              "       [0.4472136 ],\n",
              "       [1.        ],\n",
              "       ...,\n",
              "       [0.57735026],\n",
              "       [1.        ],\n",
              "       [1.        ]], dtype=float32)>"
            ]
          },
          "metadata": {},
          "execution_count": 16
        }
      ]
    },
    {
      "cell_type": "markdown",
      "source": [
        "### GCN Model"
      ],
      "metadata": {
        "id": "u0VbpqSeqhXL"
      }
    },
    {
      "cell_type": "code",
      "source": [
        "from dgl.nn.tensorflow import GraphConv \n",
        "from tensorflow.keras import layers \n",
        "\n",
        "class GCN(tf.keras.Model): \n",
        "  def __init__(\n",
        "      self, g, in_feats, n_hidden, n_classes, n_layers, activation, dropout\n",
        "  ): \n",
        "    super(GCN, self).__init__() \n",
        "    self.g = g \n",
        "    self.layer_list = [] \n",
        "    #input layer \n",
        "    self.layer_list.append(\n",
        "        GraphConv(in_feats, n_hidden, activation=activation)\n",
        "    ) \n",
        "    for i in range(n_layers - 1): \n",
        "      self.layer_list.append( \n",
        "          GraphConv(n_hidden, n_hidden, activation=activation)\n",
        "      )\n",
        "      self.layer_list.append(GraphConv(n_hidden, n_classes)) \n",
        "      self.dropout = layers.Dropout(dropout) \n",
        "  \n",
        "  def call(self, features) : \n",
        "    h = features \n",
        "    for i, layer in enumerate(self.layer_list): \n",
        "      if i != 0: \n",
        "        h = self.dropout(h) \n",
        "      h = layer(self.g, h) \n",
        "    return h  "
      ],
      "metadata": {
        "id": "dz5DAE-tqjXG"
      },
      "execution_count": 17,
      "outputs": []
    },
    {
      "cell_type": "code",
      "source": [
        "n_hidden = 16 \n",
        "n_layers = 1 \n",
        "weight_decay = 5e-4 \n",
        "dropout = 0.5\n",
        "\n",
        "model = GCN(g, in_feats, n_hidden, n_classes, n_layers, tf.nn.relu, dropout )"
      ],
      "metadata": {
        "id": "NIesOvPGrgE8"
      },
      "execution_count": 18,
      "outputs": []
    },
    {
      "cell_type": "code",
      "source": [
        "lr = 1e-2\n",
        "loss_func = tf.keras.losses.SparseCategoricalCrossentropy(from_logits = True) \n",
        "optimizer = tf.keras.optimizers.Adam(learning_rate = lr, epsilon=1e-8)"
      ],
      "metadata": {
        "id": "ks5O0aT8r0iN"
      },
      "execution_count": 19,
      "outputs": []
    },
    {
      "cell_type": "code",
      "source": [
        "def evaluate(model, features, labels, mask): \n",
        "  logits = model(features, training=False) \n",
        "  logits = logits[mask] \n",
        "  labels = labels[mask] \n",
        "  indices = tf.math.argmax(logits, axis=1) \n",
        "  acc = tf.reduce_mean(tf.cast(indices == labels, dtype=tf.float32)) \n",
        "  return acc.numpy().item() "
      ],
      "metadata": {
        "id": "K8YyCCdRs5YW"
      },
      "execution_count": 20,
      "outputs": []
    },
    {
      "cell_type": "code",
      "source": [
        "dur = [] \n",
        "for epoch in range(100): # epoch \n",
        "  if epoch >= 3: \n",
        "    t0 = time.time() \n",
        "  with tf.GradientTape() as tape: \n",
        "    logits = model(features) \n",
        "    loss_value = loss_func(labels[train_mask], logits[train_mask]) \n",
        "    for weight in model.trainable_weights: \n",
        "      loss_value = loss_value + weight_decay * tf.nn.l2_loss(weight) \n",
        "    grads = tape.gradient(loss_value, model.trainable_weights) \n",
        "    optimizer.apply_gradients(zip(grads, model.trainable_weights))\n",
        "  if epoch >= 3: \n",
        "    dur.append(time.time() - t0)\n",
        "  \n",
        "  acc = evaluate(model, features, labels, val_mask) \n",
        "  if epoch % 10 == 0: \n",
        "    print(\n",
        "                  \"Epoch {:05d} | Time(s) {:.4f} | Loss {:.4f} | Accuracy {:.4f} | \"\n",
        "                  \"ETputs(KTEPS) {:.2f}\".format(\n",
        "                      epoch,\n",
        "                      np.mean(dur),\n",
        "                      loss_value.numpy().item(),\n",
        "                      acc,\n",
        "                      n_edges / np.mean(dur) / 1000,\n",
        "                  )\n",
        "              )\n"
      ],
      "metadata": {
        "id": "styGA5G2sBKh",
        "outputId": "38dd1650-2856-4210-f919-1e31396e6018",
        "colab": {
          "base_uri": "https://localhost:8080/"
        }
      },
      "execution_count": 30,
      "outputs": [
        {
          "output_type": "stream",
          "name": "stdout",
          "text": [
            "Epoch 00000 | Time(s) nan | Loss 1.8539 | Accuracy 0.6020 | ETputs(KTEPS) nan\n",
            "Epoch 00010 | Time(s) 0.0305 | Loss 1.8451 | Accuracy 0.6040 | ETputs(KTEPS) 303.02\n",
            "Epoch 00020 | Time(s) 0.0308 | Loss 1.8369 | Accuracy 0.6040 | ETputs(KTEPS) 299.18\n",
            "Epoch 00030 | Time(s) 0.0271 | Loss 1.8292 | Accuracy 0.6000 | ETputs(KTEPS) 339.90\n",
            "Epoch 00040 | Time(s) 0.0281 | Loss 1.8220 | Accuracy 0.6000 | ETputs(KTEPS) 328.64\n",
            "Epoch 00050 | Time(s) 0.0286 | Loss 1.8152 | Accuracy 0.6000 | ETputs(KTEPS) 322.29\n",
            "Epoch 00060 | Time(s) 0.0295 | Loss 1.8088 | Accuracy 0.6020 | ETputs(KTEPS) 312.59\n",
            "Epoch 00070 | Time(s) 0.0284 | Loss 1.8029 | Accuracy 0.6060 | ETputs(KTEPS) 325.40\n",
            "Epoch 00080 | Time(s) 0.0272 | Loss 1.7973 | Accuracy 0.6100 | ETputs(KTEPS) 338.73\n",
            "Epoch 00090 | Time(s) 0.0262 | Loss 1.7920 | Accuracy 0.6080 | ETputs(KTEPS) 352.43\n"
          ]
        }
      ]
    },
    {
      "cell_type": "code",
      "source": [
        "acc = evaluate(model, features, labels, test_mask) \n",
        "print(\"Test accuracy {:.4f}\".format(acc))"
      ],
      "metadata": {
        "id": "zOZmd0FIsyib",
        "outputId": "3433c543-23b9-4d06-e894-e851bd2a461e",
        "colab": {
          "base_uri": "https://localhost:8080/"
        }
      },
      "execution_count": 31,
      "outputs": [
        {
          "output_type": "stream",
          "name": "stdout",
          "text": [
            "Test accuracy 0.6370\n"
          ]
        }
      ]
    }
  ]
}
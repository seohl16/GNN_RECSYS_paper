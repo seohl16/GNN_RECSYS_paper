{
  "nbformat": 4,
  "nbformat_minor": 0,
  "metadata": {
    "colab": {
      "provenance": []
    },
    "kernelspec": {
      "name": "python3",
      "display_name": "Python 3"
    },
    "language_info": {
      "name": "python"
    }
  },
  "cells": [
    {
      "cell_type": "markdown",
      "source": [
        "Data :    \n",
        "- https://graphsandnetworks.com/the-cora-dataset/\n",
        "\n",
        "\n",
        "Reference : \n",
        "- https://www.kaggle.com/code/mhyodo/en-jp-graphneuralnetwork-basictask\n",
        "- https://github.com/siqim/Machine-Learning-with-Graphs/blob/697d83bb206be0825ebaf0dad128b9eb24908705/examples/2_GCN/GCN.py\n",
        "- https://github.com/tkipf/pygcn/blob/master/pygcn/utils.py"
      ],
      "metadata": {
        "id": "zTr2P0fwpgVz"
      }
    },
    {
      "cell_type": "code",
      "source": [
        "!pip install dgl-cu110 dglgo -f https://data.dgl.ai/wheels/repo.html &>/dev/null"
      ],
      "metadata": {
        "id": "w15Htdq5p7cs"
      },
      "execution_count": 14,
      "outputs": []
    },
    {
      "cell_type": "code",
      "execution_count": 28,
      "metadata": {
        "id": "vR2zp06_f8as"
      },
      "outputs": [],
      "source": [
        "import torch\n",
        "import torch.nn as nn\n",
        "import torch.nn.functional as F\n",
        "import torch.optim as optim\n",
        "from torch.utils.data import DataLoader\n",
        "import numpy as np \n",
        "import pandas as pd \n",
        "from matplotlib import pyplot as plt\n",
        "import dgl\n",
        "from dgl.data import DGLDataset\n",
        "import dgl.nn as dglnn\n",
        "import networkx as nx\n",
        "import scipy.sparse as sp\n"
      ]
    },
    {
      "cell_type": "code",
      "source": [
        "# read data\n",
        "content_path = \"/content/drive/MyDrive/cora/cora.content\"\n",
        "cite_path = \"/content/drive/MyDrive/cora/cora.cites\"\n",
        "\n",
        "with open(content_path, \"r\") as fp:\n",
        "    contents = fp.readlines()\n",
        "with open(cite_path, \"r\") as fp:\n",
        "    cites = fp.readlines()\n",
        "\n",
        "contents = np.array([np.array(l.strip().split(\"\\t\")) for l in contents])\n",
        "paper_list, feat_list, label_list = np.split(contents, [1,-1], axis=1)\n",
        "paper_list, label_list = np.squeeze(paper_list), np.squeeze(label_list)\n",
        "# Paper -> Index dict\n",
        "paper_dict = dict([(key, val) for val, key in enumerate(paper_list)])\n",
        "# Label -> Index dict\n",
        "labels = list(set(label_list))\n",
        "label_dict = dict([(key, val) for val, key in enumerate(labels)])\n",
        "# Edge_index\n",
        "cites = [i.strip().split(\"\\t\") for i in cites]\n",
        "cites = np.array([[paper_dict[i[0]], paper_dict[i[1]]] for i in cites], \n",
        "                 np.int64).T   # (2, edge)\n",
        "cites = np.concatenate((cites, cites[::-1, :]), axis=1)  # (2, 2*edge) or (2, E)\n",
        "# Degree\n",
        "_, degree_list = np.unique(cites[0,:], return_counts=True)\n",
        "# Input\n",
        "node_num = len(paper_list)\n",
        "feat_dim = feat_list.shape[1]\n",
        "stat_dim = 32\n",
        "num_class = len(labels)\n",
        "T = 2\n",
        "feat_Matrix = torch.Tensor(feat_list.astype(np.float32))\n",
        "X_Node, X_Quote = np.split(cites, 2, axis=0)\n",
        "X_Node, X_Quote = torch.from_numpy(np.squeeze(X_Node)), \\\n",
        "                 torch.from_numpy(np.squeeze(X_Quote))\n",
        "label_list = np.array([label_dict[i] for i in label_list])\n",
        "label_list = torch.from_numpy(label_list)\n",
        "print('Node:', X_Node) # paper id\n",
        "print('Quote:', X_Quote) # quote paper id\n",
        "print('label:', label_list) # label (paper genre)\n",
        "print('feat:', feat_Matrix) # feat"
      ],
      "metadata": {
        "colab": {
          "base_uri": "https://localhost:8080/"
        },
        "id": "6Vz1lYhgiDYX",
        "outputId": "7f45601b-1645-4750-d720-7f9ca5496095"
      },
      "execution_count": 8,
      "outputs": [
        {
          "output_type": "stream",
          "name": "stdout",
          "text": [
            "Node: tensor([ 163,  163,  163,  ..., 2258, 1887, 1686])\n",
            "Quote: tensor([ 402,  659, 1696,  ..., 1887, 1902,  837])\n",
            "label: tensor([2, 4, 5,  ..., 1, 0, 2])\n",
            "feat: tensor([[0., 0., 0.,  ..., 0., 0., 0.],\n",
            "        [0., 0., 0.,  ..., 0., 0., 0.],\n",
            "        [0., 0., 0.,  ..., 0., 0., 0.],\n",
            "        ...,\n",
            "        [0., 0., 0.,  ..., 0., 0., 0.],\n",
            "        [0., 0., 0.,  ..., 0., 0., 0.],\n",
            "        [0., 0., 0.,  ..., 0., 0., 0.]])\n"
          ]
        }
      ]
    },
    {
      "cell_type": "markdown",
      "source": [
        "- https://github.com/Uroboros0313/GraphEmbedding_Pytorch/blob/f9cd24893f1cfd934d9e71e22b0cbaeeb69a9383/utils/data_utils.py"
      ],
      "metadata": {
        "id": "9hdfAnjUr8_a"
      }
    },
    {
      "cell_type": "code",
      "source": [
        "# G = nx.Graph()\n",
        "# content_path = \"/content/drive/MyDrive/cora/cora.content\"\n",
        "# cite_path = \"/content/drive/MyDrive/cora/cora.cites\"\n",
        "\n",
        "# with open(cite_path, 'r', encoding='utf-8') as f:\n",
        "#     lines = f.readlines()\n",
        "#     edge_list = [tuple(edge_info.strip().split('\\t')) for edge_info in lines]\n",
        "#     G.add_edges_from(edge_list)\n",
        "\n",
        "# with open(content_path, 'r', encoding='utf-8') as f:\n",
        "#     lines = f.readlines()\n",
        "#     nodes = []\n",
        "#     feats = []\n",
        "#     labels = []\n",
        "#     for feature_info in lines:\n",
        "#         features = feature_info.strip().split('\\t')\n",
        "#         nodes.append(features[0])\n",
        "#         feats.append([int(col_feat) for col_feat in features[1: -1]])\n",
        "#         labels.append(features[-1])\n",
        "\n",
        "# unique_labels = list(set(labels))\n",
        "# label_map = {label: i for i, label in enumerate(unique_labels)}   \n",
        "\n",
        "# for node, feat, label in zip(nodes, feats, labels):\n",
        "#     G.nodes[node]['feature'] = np.asarray(feat)\n",
        "#     G.nodes[node]['label'] = label_map[label]\n",
        "    "
      ],
      "metadata": {
        "id": "ZV-csdbfr7nt"
      },
      "execution_count": 11,
      "outputs": []
    },
    {
      "cell_type": "code",
      "source": [
        "g = dgl.graph((X_Node, X_Quote), num_nodes=node_num)\n",
        "g.ndata['feat'] = feat_Matrix\n",
        "g.ndata['label'] = label_list"
      ],
      "metadata": {
        "id": "vQSHH9O0pzw0"
      },
      "execution_count": 16,
      "outputs": []
    },
    {
      "cell_type": "code",
      "source": [
        "n_nodes = node_num\n",
        "n_train = int(n_nodes * 0.6)\n",
        "n_val = int(n_nodes * 0.2)\n",
        "train_mask = torch.zeros(n_nodes, dtype=torch.bool)\n",
        "val_mask = torch.zeros(n_nodes, dtype=torch.bool)\n",
        "test_mask = torch.zeros(n_nodes, dtype=torch.bool)\n",
        "train_mask[:n_train] = True\n",
        "val_mask[n_train:n_train + n_val] = True\n",
        "test_mask[n_train + n_val:] = True\n",
        "g.ndata['train_mask'] = train_mask\n",
        "g.ndata['val_mask'] = val_mask\n",
        "g.ndata['test_mask'] = test_mask"
      ],
      "metadata": {
        "id": "9XBkrSNqt0LZ"
      },
      "execution_count": 17,
      "outputs": []
    },
    {
      "cell_type": "code",
      "source": [
        "print('Graph summary')\n",
        "print(g)\n",
        "print('Node features')\n",
        "print(g.ndata)\n",
        "print('Edge features')\n",
        "print(g.edata)"
      ],
      "metadata": {
        "colab": {
          "base_uri": "https://localhost:8080/"
        },
        "id": "k-3_R5aluAYH",
        "outputId": "1689d6d1-4b94-4af1-d899-5ab648bc759c"
      },
      "execution_count": 20,
      "outputs": [
        {
          "output_type": "stream",
          "name": "stdout",
          "text": [
            "Graph summary\n",
            "Graph(num_nodes=2708, num_edges=10858,\n",
            "      ndata_schemes={'feat': Scheme(shape=(1433,), dtype=torch.float32), 'label': Scheme(shape=(), dtype=torch.int64), 'train_mask': Scheme(shape=(), dtype=torch.bool), 'val_mask': Scheme(shape=(), dtype=torch.bool), 'test_mask': Scheme(shape=(), dtype=torch.bool)}\n",
            "      edata_schemes={})\n",
            "Node features\n",
            "{'feat': tensor([[0., 0., 0.,  ..., 0., 0., 0.],\n",
            "        [0., 0., 0.,  ..., 0., 0., 0.],\n",
            "        [0., 0., 0.,  ..., 0., 0., 0.],\n",
            "        ...,\n",
            "        [0., 0., 0.,  ..., 0., 0., 0.],\n",
            "        [0., 0., 0.,  ..., 0., 0., 0.],\n",
            "        [0., 0., 0.,  ..., 0., 0., 0.]]), 'label': tensor([2, 4, 5,  ..., 1, 0, 2]), 'train_mask': tensor([ True,  True,  True,  ..., False, False, False]), 'val_mask': tensor([False, False, False,  ..., False, False, False]), 'test_mask': tensor([False, False, False,  ...,  True,  True,  True])}\n",
            "Edge features\n",
            "{}\n"
          ]
        }
      ]
    },
    {
      "cell_type": "code",
      "source": [
        "# https://github.com/tkipf/pygcn/blob/master/pygcn/utils.py\n",
        "# load data from cora \n",
        "content_path = \"/content/drive/MyDrive/cora/cora.content\"\n",
        "cite_path = \"/content/drive/MyDrive/cora/cora.cites\"\n",
        "\n",
        "idx_features_labels = np.genfromtxt(content_path, dtype=np.dtype(str))"
      ],
      "metadata": {
        "id": "A06lmnKQ16Nw"
      },
      "execution_count": 27,
      "outputs": []
    },
    {
      "cell_type": "code",
      "source": [
        "idx_features_labels[0]"
      ],
      "metadata": {
        "colab": {
          "base_uri": "https://localhost:8080/"
        },
        "id": "wdFAfpdB2mfF",
        "outputId": "6dff0ff1-ba01-4671-81fc-4618c4d1b813"
      },
      "execution_count": 33,
      "outputs": [
        {
          "output_type": "execute_result",
          "data": {
            "text/plain": [
              "array(['31336', '0', '0', ..., '0', '0', 'Neural_Networks'], dtype='<U22')"
            ]
          },
          "metadata": {},
          "execution_count": 33
        }
      ]
    },
    {
      "cell_type": "code",
      "source": [
        "features = sp.csr_matrix(idx_features_labels[:, 1:-1], dtype=np.float32)\n",
        "classes = set(idx_features_labels[:, -1])\n",
        "classes_dict = {c: np.identity(len(classes))[i, :] for i, c in\n",
        "                enumerate(classes)}\n",
        "labels = np.array(list(map(classes_dict.get, idx_features_labels[:, -1])),\n",
        "                          dtype=np.int32)"
      ],
      "metadata": {
        "id": "zRed_pOb2Mli"
      },
      "execution_count": 58,
      "outputs": []
    },
    {
      "cell_type": "code",
      "source": [
        "features[0], classes, labels"
      ],
      "metadata": {
        "colab": {
          "base_uri": "https://localhost:8080/"
        },
        "id": "MS6m2lAp2YtG",
        "outputId": "277a4699-b67b-4118-a5a5-c4732f63926e"
      },
      "execution_count": 59,
      "outputs": [
        {
          "output_type": "execute_result",
          "data": {
            "text/plain": [
              "(<1x1433 sparse matrix of type '<class 'numpy.float32'>'\n",
              " \twith 1433 stored elements in Compressed Sparse Row format>,\n",
              " {'Case_Based',\n",
              "  'Genetic_Algorithms',\n",
              "  'Neural_Networks',\n",
              "  'Probabilistic_Methods',\n",
              "  'Reinforcement_Learning',\n",
              "  'Rule_Learning',\n",
              "  'Theory'},\n",
              " array([[0, 0, 1, ..., 0, 0, 0],\n",
              "        [0, 0, 0, ..., 1, 0, 0],\n",
              "        [0, 0, 0, ..., 0, 1, 0],\n",
              "        ...,\n",
              "        [0, 1, 0, ..., 0, 0, 0],\n",
              "        [1, 0, 0, ..., 0, 0, 0],\n",
              "        [0, 0, 1, ..., 0, 0, 0]], dtype=int32))"
            ]
          },
          "metadata": {},
          "execution_count": 59
        }
      ]
    },
    {
      "cell_type": "code",
      "source": [
        "# build graph \n",
        "idx = np.array(idx_features_labels[:, 0], dtype=np.int32)\n",
        "idx_map = {j: i for i, j in enumerate(idx)}\n",
        "print(idx)"
      ],
      "metadata": {
        "colab": {
          "base_uri": "https://localhost:8080/"
        },
        "id": "ud4xxrKj2woH",
        "outputId": "6ddbf32f-7f6f-49b6-bc2e-1444f9000807"
      },
      "execution_count": 37,
      "outputs": [
        {
          "output_type": "stream",
          "name": "stdout",
          "text": [
            "[  31336 1061127 1106406 ... 1128978  117328   24043]\n"
          ]
        }
      ]
    },
    {
      "cell_type": "code",
      "source": [
        "edges_unordered = np.genfromtxt(cite_path, dtype=np.int32)\n",
        "edges_unordered[0], edges_unordered[1]"
      ],
      "metadata": {
        "colab": {
          "base_uri": "https://localhost:8080/"
        },
        "id": "XHkXVFhV3CQC",
        "outputId": "c6e30196-7b83-43b4-c16a-18a680601132"
      },
      "execution_count": 43,
      "outputs": [
        {
          "output_type": "execute_result",
          "data": {
            "text/plain": [
              "(array([  35, 1033], dtype=int32), array([    35, 103482], dtype=int32))"
            ]
          },
          "metadata": {},
          "execution_count": 43
        }
      ]
    },
    {
      "cell_type": "code",
      "source": [
        "edges = np.array(list(map(idx_map.get, edges_unordered.flatten())), dtype=np.int32).reshape(edges_unordered.shape)\n",
        "edges[0], edges[1]"
      ],
      "metadata": {
        "colab": {
          "base_uri": "https://localhost:8080/"
        },
        "id": "VlcA6upt3P9y",
        "outputId": "c316db6a-9a52-42bf-cb29-da1405796146"
      },
      "execution_count": 61,
      "outputs": [
        {
          "output_type": "execute_result",
          "data": {
            "text/plain": [
              "(array([163, 402], dtype=int32), array([163, 659], dtype=int32))"
            ]
          },
          "metadata": {},
          "execution_count": 61
        }
      ]
    },
    {
      "cell_type": "code",
      "source": [
        "adj = sp.coo_matrix((np.ones(edges.shape[0]), (edges[:, 0], edges[:, 1])), shape=(labels.shape[0], labels.shape[0]), dtype=np.float32)"
      ],
      "metadata": {
        "id": "lgk_INsn3f0I"
      },
      "execution_count": 62,
      "outputs": []
    },
    {
      "cell_type": "code",
      "source": [
        "adj = adj + adj.T.multiply(adj.T > adj) - adj.multiply(adj.T > adj)"
      ],
      "metadata": {
        "id": "ytadGGO43xtx"
      },
      "execution_count": 63,
      "outputs": []
    },
    {
      "cell_type": "code",
      "source": [
        "def normalize(mx):\n",
        "    \"\"\"Row-normalize sparse matrix\"\"\"\n",
        "    rowsum = np.array(mx.sum(1))\n",
        "    r_inv = np.power(rowsum, -1).flatten()\n",
        "    r_inv[np.isinf(r_inv)] = 0.\n",
        "    r_mat_inv = sp.diags(r_inv)\n",
        "    mx = r_mat_inv.dot(mx)\n",
        "    return mx\n",
        "    \n",
        "features = normalize(features) \n",
        "adj = normalize(adj + sp.eye(adj.shape[0])) "
      ],
      "metadata": {
        "id": "TZ8ex2il4I2f"
      },
      "execution_count": 64,
      "outputs": []
    },
    {
      "cell_type": "code",
      "source": [
        "idx_train, idx_val, idx_test = range(140), range(200,500), range(500, 1500) \n",
        "idx_train = torch.LongTensor(idx_train) \n",
        "idx_val = torch.LongTensor(idx_val) \n",
        "idx_test = torch.LongTensor(idx_test)"
      ],
      "metadata": {
        "id": "TZvk-n1u4Tjh"
      },
      "execution_count": 69,
      "outputs": []
    },
    {
      "cell_type": "code",
      "source": [
        "def sparse_mx_to_torch_sparse_tensor(sparse_mx):\n",
        "    \"\"\"Convert a scipy sparse matrix to a torch sparse tensor.\"\"\"\n",
        "    sparse_mx = sparse_mx.tocoo().astype(np.float32)\n",
        "    indices = torch.from_numpy(\n",
        "        np.vstack((sparse_mx.row, sparse_mx.col)).astype(np.int64))\n",
        "    values = torch.from_numpy(sparse_mx.data)\n",
        "    shape = torch.Size(sparse_mx.shape)\n",
        "    return torch.sparse.FloatTensor(indices, values, shape)\n",
        "\n",
        "features = torch.FloatTensor(np.array(features.todense()))\n",
        "labels = torch.LongTensor(np.where(labels)[1]) \n",
        "adj = sparse_mx_to_torch_sparse_tensor(adj)"
      ],
      "metadata": {
        "id": "3cZVQFPn4a4p"
      },
      "execution_count": 67,
      "outputs": []
    },
    {
      "cell_type": "code",
      "source": [
        "adj, features, labels"
      ],
      "metadata": {
        "colab": {
          "base_uri": "https://localhost:8080/"
        },
        "id": "qMlQa1iQ5iOI",
        "outputId": "d765172b-ac26-4353-b909-f88b3227cbf9"
      },
      "execution_count": 71,
      "outputs": [
        {
          "output_type": "execute_result",
          "data": {
            "text/plain": [
              "(tensor(indices=tensor([[   0,    8,   14,  ..., 1389, 2344, 2707],\n",
              "                        [   0,    0,    0,  ..., 2707, 2707, 2707]]),\n",
              "        values=tensor([0.1667, 0.1667, 0.0500,  ..., 0.2000, 0.5000, 0.2500]),\n",
              "        size=(2708, 2708), nnz=13264, layout=torch.sparse_coo),\n",
              " tensor([[0., 0., 0.,  ..., 0., 0., 0.],\n",
              "         [0., 0., 0.,  ..., 0., 0., 0.],\n",
              "         [0., 0., 0.,  ..., 0., 0., 0.],\n",
              "         ...,\n",
              "         [0., 0., 0.,  ..., 0., 0., 0.],\n",
              "         [0., 0., 0.,  ..., 0., 0., 0.],\n",
              "         [0., 0., 0.,  ..., 0., 0., 0.]]),\n",
              " tensor([2, 4, 5,  ..., 1, 0, 2]))"
            ]
          },
          "metadata": {},
          "execution_count": 71
        }
      ]
    },
    {
      "cell_type": "code",
      "source": [
        "adj.shape, features.shape, labels.shape"
      ],
      "metadata": {
        "colab": {
          "base_uri": "https://localhost:8080/"
        },
        "id": "9csONIwf7aQm",
        "outputId": "a16f9511-d93d-411a-c9b5-a110f7ce5fbb"
      },
      "execution_count": 73,
      "outputs": [
        {
          "output_type": "execute_result",
          "data": {
            "text/plain": [
              "(torch.Size([2708, 2708]), torch.Size([2708, 1433]), torch.Size([2708]))"
            ]
          },
          "metadata": {},
          "execution_count": 73
        }
      ]
    },
    {
      "cell_type": "code",
      "source": [
        "class GCN(nn.Module):\n",
        "    def __init__(self, in_features, hidden_features, out_features):\n",
        "        super(GCN, self).__init__()\n",
        "        self.conv1 = nn.Linear(in_features, hidden_features)\n",
        "        self.conv2 = nn.Linear(hidden_features, out_features)\n",
        "\n",
        "    def forward(self, x, adj):\n",
        "        x = F.relu(self.conv1(x))\n",
        "        x = F.dropout(x, training=self.training)\n",
        "        x = self.conv2(x)\n",
        "        return F.log_softmax(x, dim=1)\n"
      ],
      "metadata": {
        "id": "oYNUGocOiFqy"
      },
      "execution_count": 32,
      "outputs": []
    },
    {
      "cell_type": "code",
      "source": [
        "device = torch.device('cuda' if torch.cuda.is_available() else 'cpu')\n",
        "model = GCN(g.ndata['feat'].shape[1], 128, len(g.ndata['label'].unique())).to(device)"
      ],
      "metadata": {
        "id": "GZkzM5THiGss"
      },
      "execution_count": 98,
      "outputs": []
    },
    {
      "cell_type": "code",
      "source": [
        "criterion = nn.CrossEntropyLoss()\n",
        "optimizer = optim.Adam(model.parameters(), lr=0.01, weight_decay=5e-4)"
      ],
      "metadata": {
        "id": "9ZBQzHQ2uXWj"
      },
      "execution_count": 99,
      "outputs": []
    },
    {
      "cell_type": "code",
      "source": [
        "g"
      ],
      "metadata": {
        "colab": {
          "base_uri": "https://localhost:8080/"
        },
        "id": "7iIuIh7GyX5a",
        "outputId": "6268bc15-a81b-4d4c-c274-64ad5c637c3d"
      },
      "execution_count": 25,
      "outputs": [
        {
          "output_type": "execute_result",
          "data": {
            "text/plain": [
              "Graph(num_nodes=2708, num_edges=10858,\n",
              "      ndata_schemes={'feat': Scheme(shape=(1433,), dtype=torch.float32), 'label': Scheme(shape=(), dtype=torch.int64), 'train_mask': Scheme(shape=(), dtype=torch.bool), 'val_mask': Scheme(shape=(), dtype=torch.bool), 'test_mask': Scheme(shape=(), dtype=torch.bool)}\n",
              "      edata_schemes={})"
            ]
          },
          "metadata": {},
          "execution_count": 25
        }
      ]
    },
    {
      "cell_type": "code",
      "source": [
        "def cal_accuracy(output, labels):\n",
        "    preds = output.max(1)[1].type_as(labels)\n",
        "    correct = preds.eq(labels).double()\n",
        "    correct = correct.sum()\n",
        "    return correct / len(labels)"
      ],
      "metadata": {
        "id": "pdNA00ZP8sIl"
      },
      "execution_count": 84,
      "outputs": []
    },
    {
      "cell_type": "code",
      "source": [
        "def train(epoch, features, adj, labels, idx_train):\n",
        "    model.train()\n",
        "    adj = adj.to(device) \n",
        "    features = features.to(device) \n",
        "    labels = labels.to(device)\n",
        "    optimizer.zero_grad()\n",
        "    output = model(features, adj)\n",
        "    loss = criterion(output[idx_train], labels[idx_train])\n",
        "    loss.backward()\n",
        "    optimizer.step()\n",
        "    accuracy = cal_accuracy(output[idx_train], labels[idx_train])\n",
        "    if epoch % 10 == 0: \n",
        "      print(\"Epoch {0} Loss: {1} Accuracy {2}\".format(epoch, loss.item(), accuracy.item()))\n",
        "\n",
        "def evaluate(features, adj, labels, idx_test):\n",
        "    model.eval()\n",
        "    adj = adj.to(device) \n",
        "    features = features.to(device) \n",
        "    labels = labels.to(device)\n",
        "\n",
        "    with torch.no_grad():\n",
        "        output = model(features, adj)\n",
        "        pred = output.argmax(dim=1)\n",
        "    loss = criterion(output[idx_test], labels[idx_test])\n",
        "    accuracy = cal_accuracy(output[idx_test], labels[idx_test])\n",
        "    print(\"[Test] Loss: {0} Accuracy {1}\".format(loss.item(), accuracy.item()))\n"
      ],
      "metadata": {
        "id": "1-h041VriH_t"
      },
      "execution_count": 103,
      "outputs": []
    },
    {
      "cell_type": "code",
      "source": [
        "for epoch in range(100): \n",
        "  train(epoch, features, adj, labels, idx_train)\n",
        "  if epoch % 30 == 0: \n",
        "    evaluate(features, adj, labels, idx_test)"
      ],
      "metadata": {
        "colab": {
          "base_uri": "https://localhost:8080/"
        },
        "id": "2AGS52JPiJa7",
        "outputId": "072e0639-b1aa-43b8-85b6-fca0cca9ab99"
      },
      "execution_count": 105,
      "outputs": [
        {
          "output_type": "stream",
          "name": "stdout",
          "text": [
            "Epoch 0 Loss: 0.07838965207338333 Accuracy 1.0\n",
            "[Test] Loss: 1.2637449502944946 Accuracy 0.583\n",
            "Epoch 10 Loss: 0.08204708993434906 Accuracy 1.0\n",
            "Epoch 20 Loss: 0.06400196999311447 Accuracy 1.0\n",
            "Epoch 30 Loss: 0.08669473975896835 Accuracy 1.0\n",
            "[Test] Loss: 1.2572790384292603 Accuracy 0.587\n",
            "Epoch 40 Loss: 0.07743391394615173 Accuracy 1.0\n",
            "Epoch 50 Loss: 0.06616414338350296 Accuracy 1.0\n",
            "Epoch 60 Loss: 0.07256202399730682 Accuracy 1.0\n",
            "[Test] Loss: 1.2550323009490967 Accuracy 0.575\n",
            "Epoch 70 Loss: 0.07253197580575943 Accuracy 1.0\n",
            "Epoch 80 Loss: 0.07879054546356201 Accuracy 1.0\n",
            "Epoch 90 Loss: 0.06413944810628891 Accuracy 1.0\n",
            "[Test] Loss: 1.249057412147522 Accuracy 0.586\n"
          ]
        }
      ]
    },
    {
      "cell_type": "code",
      "source": [],
      "metadata": {
        "id": "c4yr2-f08HSt"
      },
      "execution_count": null,
      "outputs": []
    }
  ]
}